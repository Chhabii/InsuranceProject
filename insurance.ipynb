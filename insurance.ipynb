{
 "cells": [
  {
   "cell_type": "code",
   "execution_count": 1,
   "id": "fddb65d3",
   "metadata": {},
   "outputs": [],
   "source": [
    "import pandas as pd\n",
    "import numpy as np\n",
    "data = pd.read_csv(\"train.csv\")"
   ]
  },
  {
   "cell_type": "code",
   "execution_count": 2,
   "id": "1045dcfa",
   "metadata": {},
   "outputs": [],
   "source": [
    "data = data.drop('id',axis=1) #dropping id "
   ]
  },
  {
   "cell_type": "code",
   "execution_count": 3,
   "id": "ff3641c3",
   "metadata": {},
   "outputs": [],
   "source": [
    "from sklearn.pipeline import Pipeline\n",
    "from sklearn.preprocessing import StandardScaler\n",
    "from sklearn.preprocessing import OneHotEncoder\n",
    "from sklearn.linear_model import LogisticRegression\n",
    "from sklearn.decomposition import PCA\n",
    "from sklearn.compose import ColumnTransformer\n",
    "from sklearn.model_selection import RandomizedSearchCV\n",
    "from sklearn.neighbors import KNeighborsClassifier\n"
   ]
  },
  {
   "cell_type": "code",
   "execution_count": 4,
   "id": "df0cd598",
   "metadata": {},
   "outputs": [],
   "source": [
    "num_feat = ['Age','Region_Code','Annual_Premium','Policy_Sales_Channel','Vintage',]\n",
    "cat_feat = ['Gender','Driving_License','Vehicle_Age','Previously_Insured','Vehicle_Damage']\n"
   ]
  },
  {
   "cell_type": "code",
   "execution_count": 5,
   "id": "a3369433",
   "metadata": {},
   "outputs": [],
   "source": [
    "preprocessor = ColumnTransformer(\n",
    "    transformers=[\n",
    "        ('num',StandardScaler(),num_feat),\n",
    "        ('cat',OneHotEncoder(),cat_feat)\n",
    "    ]\n",
    ")\n",
    "steps = [\n",
    "    ('preprocessor',preprocessor),\n",
    "    ('pca',PCA()),\n",
    "    ('classifer',KNeighborsClassifier(weights= 'uniform',p= 4,\n",
    " n_neighbors= 13,\n",
    " n_jobs= 2,\n",
    " metric= 'chebyshev',\n",
    " leaf_size= 40,\n",
    " algorithm= 'ball_tree'))\n",
    "]\n",
    "\n",
    "pipeline = Pipeline(steps)"
   ]
  },
  {
   "cell_type": "code",
   "execution_count": 6,
   "id": "272b1aab",
   "metadata": {},
   "outputs": [],
   "source": [
    "from sklearn.model_selection import train_test_split\n",
    "X = data.drop('Response',axis=1)\n",
    "y = data['Response']\n",
    "X_train,X_test,y_train,y_test = train_test_split(X,y,test_size=0.2)\n",
    "pipeline.fit(X_train,y_train)\n",
    "y_pred = pipeline.predict(X_test)"
   ]
  },
  {
   "cell_type": "code",
   "execution_count": 7,
   "id": "09b4f324",
   "metadata": {},
   "outputs": [],
   "source": [
    "from sklearn.metrics import accuracy_score,confusion_matrix"
   ]
  },
  {
   "cell_type": "code",
   "execution_count": 8,
   "id": "6350e685",
   "metadata": {},
   "outputs": [
    {
     "name": "stdout",
     "output_type": "stream",
     "text": [
      "Confusion matrix [[65371  1496]\n",
      " [ 8461   894]]\n",
      "Accuracy 0.8693684238146467\n"
     ]
    }
   ],
   "source": [
    "cm = confusion_matrix(y_test,y_pred)\n",
    "acc = accuracy_score(y_test,y_pred)\n",
    "print('Confusion matrix',cm)\n",
    "print('Accuracy',acc)"
   ]
  },
  {
   "cell_type": "code",
   "execution_count": 9,
   "id": "b9069460",
   "metadata": {},
   "outputs": [],
   "source": [
    "# from sklearn.ensemble import RandomForestClassifier"
   ]
  },
  {
   "cell_type": "code",
   "execution_count": 10,
   "id": "d3692876",
   "metadata": {},
   "outputs": [],
   "source": [
    "# preprocessor = ColumnTransformer(\n",
    "#     transformers=[\n",
    "#         ('num',StandardScaler(),num_feat),\n",
    "#         ('cat',OneHotEncoder(),cat_feat)\n",
    "#     ]\n",
    "# )\n",
    "# steps = [\n",
    "#     ('preprocessor',preprocessor),\n",
    "#     ('pca',PCA()),\n",
    "#     ('classifer',RandomForestClassifier())\n",
    "# ]\n",
    "\n",
    "# pipeline = Pipeline(steps)"
   ]
  },
  {
   "cell_type": "code",
   "execution_count": 11,
   "id": "b8cce33f",
   "metadata": {},
   "outputs": [],
   "source": [
    "# from sklearn.model_selection import train_test_split\n",
    "# X = data.drop('Response',axis=1)\n",
    "# y = data['Response']\n",
    "# X_train,X_test,y_train,y_test = train_test_split(X,y,test_size=0.2)\n",
    "# pipeline.fit(X_train,y_train)\n",
    "# y_pred = pipeline.predict(X_test)\n",
    "# cm = confusion_matrix(y_test,y_pred)\n",
    "# acc = accuracy_score(y_test,y_pred)\n",
    "# print('Confusion matrix',cm)\n",
    "# print('Accuracy',acc)"
   ]
  },
  {
   "cell_type": "code",
   "execution_count": 12,
   "id": "00de2ef9",
   "metadata": {},
   "outputs": [
    {
     "data": {
      "text/plain": [
       "['model.joblib']"
      ]
     },
     "execution_count": 12,
     "metadata": {},
     "output_type": "execute_result"
    }
   ],
   "source": [
    "import joblib\n",
    "filename = 'model.joblib'\n",
    "joblib.dump(pipeline,filename)"
   ]
  },
  {
   "cell_type": "code",
   "execution_count": null,
   "id": "0fdbecff",
   "metadata": {},
   "outputs": [],
   "source": []
  },
  {
   "cell_type": "code",
   "execution_count": null,
   "id": "d4fda460",
   "metadata": {},
   "outputs": [],
   "source": []
  }
 ],
 "metadata": {
  "kernelspec": {
   "display_name": "Python 3 (ipykernel)",
   "language": "python",
   "name": "python3"
  },
  "language_info": {
   "codemirror_mode": {
    "name": "ipython",
    "version": 3
   },
   "file_extension": ".py",
   "mimetype": "text/x-python",
   "name": "python",
   "nbconvert_exporter": "python",
   "pygments_lexer": "ipython3",
   "version": "3.9.7"
  }
 },
 "nbformat": 4,
 "nbformat_minor": 5
}
